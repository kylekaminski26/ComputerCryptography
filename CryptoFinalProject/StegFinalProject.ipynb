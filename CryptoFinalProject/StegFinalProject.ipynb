{
 "cells": [
  {
   "cell_type": "code",
   "execution_count": 15,
   "metadata": {},
   "outputs": [],
   "source": [
    "# Alex Cross and Kyle Kaminski"
   ]
  },
  {
   "cell_type": "code",
   "execution_count": 16,
   "metadata": {},
   "outputs": [],
   "source": [
    "import random # Import random for the random seed generation\n",
    "from PIL import Image # Import Image so we can use our image in this notebook\n",
    "IMAGE_FILE = \"lila.tiff\"  # Name of our image (default picture from Dr. Baliga)"
   ]
  },
  {
   "cell_type": "code",
   "execution_count": 17,
   "metadata": {},
   "outputs": [],
   "source": [
    "im = Image.open(IMAGE_FILE) # Store our image file into a variable"
   ]
  },
  {
   "cell_type": "code",
   "execution_count": 18,
   "metadata": {},
   "outputs": [
    {
     "name": "stdout",
     "output_type": "stream",
     "text": [
      "TIFF (1000, 1333) RGBA\n"
     ]
    }
   ],
   "source": [
    "print(im.format, im.size, im.mode) # Print the file type, horizontal pixel count, vertical pixel count, and image type"
   ]
  },
  {
   "cell_type": "code",
   "execution_count": 19,
   "metadata": {},
   "outputs": [],
   "source": [
    "paraphrase = \"Cryptography is awesome!\""
   ]
  },
  {
   "cell_type": "code",
   "execution_count": 20,
   "metadata": {},
   "outputs": [],
   "source": [
    "secret = \"This is our secret message. Kyle and I would very much like an A on this project!\""
   ]
  },
  {
   "cell_type": "code",
   "execution_count": 21,
   "metadata": {},
   "outputs": [
    {
     "data": {
      "text/plain": [
       "180"
      ]
     },
     "execution_count": 21,
     "metadata": {},
     "output_type": "execute_result"
    }
   ],
   "source": [
    "def flipbits(val,n):  # Flip n least significant bits in val\n",
    "    return val^((1<<n)-1) # ^ is python's exclusive or operator\n",
    "\n",
    "flipbits(181,1)  \n",
    "# 17 = 10001 in binary, so if you flip 3 least significant bits, \n",
    "# you get 10110 which equals 22 in decimal"
   ]
  },
  {
   "cell_type": "code",
   "execution_count": 22,
   "metadata": {},
   "outputs": [
    {
     "data": {
      "text/plain": [
       "0"
      ]
     },
     "execution_count": 22,
     "metadata": {},
     "output_type": "execute_result"
    }
   ],
   "source": [
    "def findLSB(val): \n",
    "    return (val & 1) #bit AND with 1 to return the LSB value\n",
    "\n",
    "findLSB(14)"
   ]
  },
  {
   "cell_type": "code",
   "execution_count": 23,
   "metadata": {},
   "outputs": [],
   "source": [
    "def prepSecretMessage(secret): # Function for preparing the secret message\n",
    "    byte_array = secret.encode() # Encode secret, store in a variable\n",
    "    binary_int = int.from_bytes(byte_array, \"big\")\n",
    "    binary_string = bin(binary_int).replace(\"0b\",\"\") #get rid of encoding header\n",
    "    header = bin(len(binary_string)).replace(\"0b\",\"\").zfill(16) #create 16 bit header w/ \n",
    "                                                                #num of bits to find\n",
    "    return header+binary_string\n",
    "    "
   ]
  },
  {
   "cell_type": "code",
   "execution_count": 24,
   "metadata": {},
   "outputs": [],
   "source": [
    "def hideMessage(im, paraphrase, secret): #takes an image file, the seed paraphrase, and the secret\n",
    "    \n",
    "    if len(''.join(format(ord(num), 'b') for num in secret)) <= 64000 : #check if message is appropriate size\n",
    "        random.seed(paraphrase) #seed the generator\n",
    "        px = im.load() #get pixels\n",
    "        end_int = im.size[1]**2 # used as an end point for random int range\n",
    "        preppedMess = prepSecretMessage(secret)\n",
    "        pixel_set = {(0,0)} #keep track of (x,y) pairs\n",
    "        i = 0 #iterator\n",
    "        while i < len(preppedMess): #function should only run as long as there are bits to store\n",
    "            rand = random.randrange(end_int)\n",
    "            x = rand // im.size[0] #int division to find x\n",
    "            y = rand % im.size[0] #mod to find y\n",
    "            if (x,y) not in pixel_set and x <= im.size[0] and y <= im.size[1]: #safety checks\n",
    "                pixel_set.add((x,y)) #add the usage to the set\n",
    "                p = px[x,y]\n",
    "                if findLSB(p[2]) != int(preppedMess[i]): #if the blue bit is not the same as the bit we need to input, change it.\n",
    "                    b = flipbits(p[2],1)\n",
    "                    px[x,y] = (p[0],p[1],b) #set the change \n",
    "                i = i+1\n",
    "        im.save(\"newpic.tiff\") #save the altered image, we will call this later on to prove this works\n",
    "        im.close() # We don't need this anymore\n",
    "    else:\n",
    "        print (\"Message size exceeds 8 KB\") # We don't want a super long message"
   ]
  },
  {
   "cell_type": "code",
   "execution_count": 25,
   "metadata": {},
   "outputs": [],
   "source": [
    "hideMessage(im, paraphrase, secret) # call the function"
   ]
  },
  {
   "cell_type": "code",
   "execution_count": 26,
   "metadata": {},
   "outputs": [],
   "source": [
    "def convertMessage(messbin):\n",
    "    binary_int = int(messbin, 2)\n",
    "    byte_number = binary_int.bit_length() + 7 // 8\n",
    "    binary_array = binary_int.to_bytes(byte_number, \"big\")\n",
    "    ascii_text = binary_array.decode() # Decoding\n",
    "    print(ascii_text)"
   ]
  },
  {
   "cell_type": "code",
   "execution_count": 27,
   "metadata": {},
   "outputs": [],
   "source": [
    "def findMessage(im, paraphrase): #takes an image file and the paraphrase used to hide the message    \n",
    "    random.seed(paraphrase) #seed the generator\n",
    "    px = im.load() #get pixels\n",
    "    end_int = im.size[1]**2 # used as an end point for random int range\n",
    "    pixel_set = {(0,0)} #keep track of (x,y) pairs\n",
    "    i = 0 #iterator\n",
    "    header = '' #empty string\n",
    "    while i < 16: #header is assumed to be zero-filled to 16 bits\n",
    "        rand = random.randrange(end_int)\n",
    "        x = rand // im.size[0] #int division to find x\n",
    "        y = rand % im.size[0] #mod to find y\n",
    "        if (x,y) not in pixel_set and x <= im.size[0] and y <= im.size[1]: #same safety checks to ensure same pixels get used\n",
    "            pixel_set.add((x,y)) #add the usage to the set\n",
    "            p = px[x,y]\n",
    "            header = header+str(findLSB(p[2])) #rebuild the header\n",
    "            i = i+1\n",
    "    i = 0 #reset the iterator\n",
    "    foundMessage = '' #empty string\n",
    "    while i < int(header,2): #convert our binary to decimal and loop\n",
    "        rand = random.randrange(end_int)\n",
    "        x = rand // im.size[0] #int division to find x\n",
    "        y = rand % im.size[0] #mod to find y\n",
    "        if (x,y) not in pixel_set and x <= im.size[0] and y <= im.size[1]: #same safety checks to ensure same pixels get used\n",
    "            pixel_set.add((x,y)) #add the usage to the set\n",
    "            p = px[x,y]\n",
    "            foundMessage = foundMessage+str(findLSB(p[2])) #rebuild the header\n",
    "            i = i+1\n",
    "    convertMessage(foundMessage)"
   ]
  },
  {
   "cell_type": "code",
   "execution_count": 28,
   "metadata": {},
   "outputs": [
    {
     "name": "stdout",
     "output_type": "stream",
     "text": [
      "\u0000\u0000\u0000\u0000\u0000\u0000\u0000\u0000\u0000\u0000\u0000\u0000\u0000\u0000\u0000\u0000\u0000\u0000\u0000\u0000\u0000\u0000\u0000\u0000\u0000\u0000\u0000\u0000\u0000\u0000\u0000\u0000\u0000\u0000\u0000\u0000\u0000\u0000\u0000\u0000\u0000\u0000\u0000\u0000\u0000\u0000\u0000\u0000\u0000\u0000\u0000\u0000\u0000\u0000\u0000\u0000\u0000\u0000\u0000\u0000\u0000\u0000\u0000\u0000\u0000\u0000\u0000\u0000\u0000\u0000\u0000\u0000\u0000\u0000\u0000\u0000\u0000\u0000\u0000\u0000\u0000\u0000\u0000\u0000\u0000\u0000\u0000\u0000\u0000\u0000\u0000\u0000\u0000\u0000\u0000\u0000\u0000\u0000\u0000\u0000\u0000\u0000\u0000\u0000\u0000\u0000\u0000\u0000\u0000\u0000\u0000\u0000\u0000\u0000\u0000\u0000\u0000\u0000\u0000\u0000\u0000\u0000\u0000\u0000\u0000\u0000\u0000\u0000\u0000\u0000\u0000\u0000\u0000\u0000\u0000\u0000\u0000\u0000\u0000\u0000\u0000\u0000\u0000\u0000\u0000\u0000\u0000\u0000\u0000\u0000\u0000\u0000\u0000\u0000\u0000\u0000\u0000\u0000\u0000\u0000\u0000\u0000\u0000\u0000\u0000\u0000\u0000\u0000\u0000\u0000\u0000\u0000\u0000\u0000\u0000\u0000\u0000\u0000\u0000\u0000\u0000\u0000\u0000\u0000\u0000\u0000\u0000\u0000\u0000\u0000\u0000\u0000\u0000\u0000\u0000\u0000\u0000\u0000\u0000\u0000\u0000\u0000\u0000\u0000\u0000\u0000\u0000\u0000\u0000\u0000\u0000\u0000\u0000\u0000\u0000\u0000\u0000\u0000\u0000\u0000\u0000\u0000\u0000\u0000\u0000\u0000\u0000\u0000\u0000\u0000\u0000\u0000\u0000\u0000\u0000\u0000\u0000\u0000\u0000\u0000\u0000\u0000\u0000\u0000\u0000\u0000\u0000\u0000\u0000\u0000\u0000\u0000\u0000\u0000\u0000\u0000\u0000\u0000\u0000\u0000\u0000\u0000\u0000\u0000\u0000\u0000\u0000\u0000\u0000\u0000\u0000\u0000\u0000\u0000\u0000\u0000\u0000\u0000\u0000\u0000\u0000\u0000\u0000\u0000\u0000\u0000\u0000\u0000\u0000\u0000\u0000\u0000\u0000\u0000\u0000\u0000\u0000\u0000\u0000\u0000\u0000\u0000\u0000\u0000\u0000\u0000\u0000\u0000\u0000\u0000\u0000\u0000\u0000\u0000\u0000\u0000\u0000\u0000\u0000\u0000\u0000\u0000\u0000\u0000\u0000\u0000\u0000\u0000\u0000\u0000\u0000\u0000\u0000\u0000\u0000\u0000\u0000\u0000\u0000\u0000\u0000\u0000\u0000\u0000\u0000\u0000\u0000\u0000\u0000\u0000\u0000\u0000\u0000\u0000\u0000\u0000\u0000\u0000\u0000\u0000\u0000\u0000\u0000\u0000\u0000\u0000\u0000\u0000\u0000\u0000\u0000\u0000\u0000\u0000\u0000\u0000\u0000\u0000\u0000\u0000\u0000\u0000\u0000\u0000\u0000\u0000\u0000\u0000\u0000\u0000\u0000\u0000\u0000\u0000\u0000\u0000\u0000\u0000\u0000\u0000\u0000\u0000\u0000\u0000\u0000\u0000\u0000\u0000\u0000\u0000\u0000\u0000\u0000\u0000\u0000\u0000\u0000\u0000\u0000\u0000\u0000\u0000\u0000\u0000\u0000\u0000\u0000\u0000\u0000\u0000\u0000\u0000\u0000\u0000\u0000\u0000\u0000\u0000\u0000\u0000\u0000\u0000\u0000\u0000\u0000\u0000\u0000\u0000\u0000\u0000\u0000\u0000\u0000\u0000\u0000\u0000\u0000\u0000\u0000\u0000\u0000\u0000\u0000\u0000\u0000\u0000\u0000\u0000\u0000\u0000\u0000\u0000\u0000\u0000\u0000\u0000\u0000\u0000\u0000\u0000\u0000\u0000\u0000\u0000\u0000\u0000\u0000\u0000\u0000\u0000\u0000\u0000\u0000\u0000\u0000\u0000\u0000\u0000\u0000\u0000\u0000\u0000\u0000\u0000\u0000\u0000\u0000\u0000\u0000\u0000\u0000\u0000\u0000\u0000\u0000\u0000\u0000\u0000\u0000\u0000\u0000\u0000\u0000\u0000\u0000\u0000\u0000\u0000\u0000\u0000\u0000\u0000\u0000\u0000\u0000\u0000\u0000\u0000\u0000\u0000\u0000\u0000\u0000\u0000\u0000\u0000\u0000\u0000\u0000\u0000\u0000\u0000\u0000\u0000\u0000\u0000\u0000\u0000\u0000\u0000\u0000\u0000\u0000\u0000\u0000\u0000This is our secret message. Kyle and I would very much like an A on this project!\n"
     ]
    }
   ],
   "source": [
    "findMessage(Image.open(\"newpic.tiff\"), paraphrase)"
   ]
  }
 ],
 "metadata": {
  "kernelspec": {
   "display_name": "Python 3",
   "language": "python",
   "name": "python3"
  },
  "language_info": {
   "codemirror_mode": {
    "name": "ipython",
    "version": 3
   },
   "file_extension": ".py",
   "mimetype": "text/x-python",
   "name": "python",
   "nbconvert_exporter": "python",
   "pygments_lexer": "ipython3",
   "version": "3.7.3"
  }
 },
 "nbformat": 4,
 "nbformat_minor": 2
}
