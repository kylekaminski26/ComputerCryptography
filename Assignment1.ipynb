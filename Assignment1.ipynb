{
 "cells": [
  {
   "cell_type": "markdown",
   "metadata": {},
   "source": [
    "Cryptography HW 1\n",
    "Creators: Alex Cross and Kyle Kaminski"
   ]
  },
  {
   "cell_type": "code",
   "execution_count": 13,
   "metadata": {},
   "outputs": [],
   "source": [
    "# This function finds the Greatest Common Denominator of a and b\n",
    "# The function assumes a > b\n",
    "# Params: two integers (a and b)\n",
    "# Returns: value of r (GCD of a and b), value of x, value of y, and value of i (counter)\n",
    "def gcd(a,b):\n",
    "    xsub2 = 1\n",
    "    ysub2 = 0\n",
    "    xsub1 = 0\n",
    "    ysub1 = 1\n",
    "    i = 1 # Records the increments of this function\n",
    "    x = 0\n",
    "    y = 0\n",
    "    r = 0\n",
    "    q = 0\n",
    "    while a % b != 0: # while a mod b does not equal 0\n",
    "        i = i+1 # Increment counter\n",
    "        r = a%b\n",
    "        q = a//b\n",
    "        a = b\n",
    "        b = r\n",
    "        x = xsub2 - (q * xsub1) # x equals \"2 above\" minus (\"1 above\" multiplied by \"q\")\n",
    "        y = ysub2 - (q * ysub1) # y equals \"2 above\" minus (\"1 above\" multiplied by \"q\")\n",
    "        xsub2 = xsub1 # Replace x\n",
    "        xsub1 = x\n",
    "        ysub2 = ysub1 # Replace y\n",
    "        ysub1 = y\n",
    "    outTuple = (r, x, y, i) # Formatting for the output \n",
    "    print(outTuple) # Returns the output of this function for a and b"
   ]
  },
  {
   "cell_type": "code",
   "execution_count": 14,
   "metadata": {
    "scrolled": false
   },
   "outputs": [
    {
     "name": "stdout",
     "output_type": "stream",
     "text": [
      "(6, -19, 82, 5)\n"
     ]
    }
   ],
   "source": [
    "a = 1398\n",
    "b = 324\n",
    "gcd(a,b)"
   ]
  },
  {
   "cell_type": "code",
   "execution_count": 29,
   "metadata": {},
   "outputs": [],
   "source": [
    "# This function finds the max iterations of a number n\n",
    "# Params: an integer\n",
    "# Returns: max value of a, max value of b, and max number of rows\n",
    "def maxiters(n):\n",
    "    a, maxA, b, maxB, maxRows, rows, r, atemp, btemp = 1,0,1,0,0,1,0,0,0\n",
    "    while a < n: # while a is less than the parameter\n",
    "        while b < a: # while b is less than a\n",
    "            atemp, btemp = a,b # Store a and b values in temp vars\n",
    "            while atemp % btemp != 0: # While a mod b does not equal 0\n",
    "                r = atemp%btemp\n",
    "                atemp = btemp\n",
    "                btemp = r\n",
    "                rows = rows + 1 # Increment r\n",
    "                if maxRows < rows:\n",
    "                    maxRows = rows\n",
    "                    maxA = a\n",
    "                    maxB = b\n",
    "            rows = 1 # reset rows counter to the beginning\n",
    "            b = b+1 # Increment b\n",
    "        b = 1 # reset b to the beginning\n",
    "        a = a+1 # Increment a\n",
    "    outTup = (maxA, maxB, maxRows) # Output format\n",
    "    print(outTup) # Print output"
   ]
  },
  {
   "cell_type": "code",
   "execution_count": 30,
   "metadata": {},
   "outputs": [
    {
     "name": "stdout",
     "output_type": "stream",
     "text": [
      "(8, 5, 4)\n"
     ]
    }
   ],
   "source": [
    "n = 10\n",
    "maxiters(n)"
   ]
  },
  {
   "cell_type": "code",
   "execution_count": null,
   "metadata": {},
   "outputs": [],
   "source": []
  }
 ],
 "metadata": {
  "kernelspec": {
   "display_name": "SageMath 9.0",
   "language": "sage",
   "name": "sagemath"
  },
  "language_info": {
   "codemirror_mode": {
    "name": "ipython",
    "version": 3
   },
   "file_extension": ".py",
   "mimetype": "text/x-python",
   "name": "python",
   "nbconvert_exporter": "python",
   "pygments_lexer": "ipython3",
   "version": "3.7.3"
  }
 },
 "nbformat": 4,
 "nbformat_minor": 2
}
